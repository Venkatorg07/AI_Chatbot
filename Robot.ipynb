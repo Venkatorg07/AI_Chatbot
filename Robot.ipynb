{
 "cells": [
  {
   "cell_type": "code",
   "execution_count": 5,
   "metadata": {
    "id": "l-n-JGyCC1At"
   },
   "outputs": [],
   "source": [
    "import numpy as np\n",
    "import nltk\n",
    "import string\n",
    "import random\n",
    "import base64\n",
    "import requests"
   ]
  },
  {
   "cell_type": "code",
   "execution_count": 6,
   "metadata": {},
   "outputs": [
    {
     "name": "stdout",
     "output_type": "stream",
     "text": [
      "Chatbot\n",
      "From Wikipedia, the free encyclopedia\n",
      "Jump to navigationJump to search\n",
      "For other uses, see Chatbot (disambiguation).\n",
      "\n",
      "A virtual assistant chatbot\n",
      "\n",
      "The 1966 ELIZA chatbot\n",
      "A chatbot or chatterbot is a software application used to conduct an on-line chat conversation via text or text-to-speech, in lieu of providing direct contact with a live human agent.[1][2] Designed to convincingly simulate the way a human would behave as a conversational partner, chatbot systems typically require continuous tuning and testing, and many in production remain unable to adequately converse, while none of them can pass the standard Turing test.[3] The term \"ChatterBot\" was originally coined by Michael Mauldin (creator of the first Verbot) in 1994 to describe these conversational programs.[4]\n",
      "\n",
      "Chatbots are used in dialog systems for various purposes including customer service, request routing, or information gathering. While some chatbot applications use extensive word-classification processes, natural-language processors, and sophisticated AI, others simply scan for general keywords and generate responses using common phrases obtained from an associated library or database.\n",
      "\n",
      "Most chatbots are accessed on-line via website popups or through virtual assistants. They can be classified into usage categories that include: commerce (e-commerce via chat), education, entertainment, finance, health, news, and productivity.[5]\n",
      "\n",
      "\n",
      "Contents\n",
      "1\tBackground\n",
      "2\tDevelopment\n",
      "3\tApplication\n",
      "3.1\tMessaging apps\n",
      "3.1.1\tAs part of company apps and websites\n",
      "3.1.2\tChatbot sequences\n",
      "3.2\tCompany internal platforms\n",
      "3.3\tCustomer service\n",
      "3.4\tHealthcare\n",
      "3.5\tPolitics\n",
      "3.6\tToys\n",
      "3.7\tMalicious use\n",
      "4\tLimitations of chatbots\n",
      "5\tChatbots and jobs\n",
      "6\tSee also\n",
      "7\tReferences\n",
      "7.1\tBibliography\n",
      "8\tFurther reading\n",
      "Background\n",
      "In 1950, Alan Turing's famous article \"Computing Machinery and Intelligence\" was published,[6] which proposed what is now called the Turing test as a criterion of intelligence. This criterion depends on the ability of a computer program to impersonate a human in a real-time written conversation with a human judge to the extent that the judge is unable to distinguish reliably—on the basis of the conversational content alone—between the program and a real human. The notoriety of Turing's proposed test stimulated great interest in Joseph Weizenbaum's program ELIZA, published in 1966, which seemed to be able to fool users into believing that they were conversing with a real human. However Weizenbaum himself did not claim that ELIZA was genuinely intelligent, and the introduction to his paper presented it more as a debunking exercise:\n",
      "\n",
      "[In] artificial intelligence ... machines are made to behave in wondrous ways, often sufficient to dazzle even the most experienced observer. But once a particular program is unmasked, once its inner workings are explained ... its magic crumbles away; it stands revealed as a mere collection of procedures ... The observer says to himself \"I could have written that\". With that thought, he moves the program in question from the shelf marked \"intelligent\", to that reserved for curios ... The object of this paper is to cause just such a re-evaluation of the program about to be \"explained\". Few programs ever needed it more.[7]\n",
      "\n",
      "ELIZA's key method of operation (copied by chatbot designers ever since) involves the recognition of clue words or phrases in the input, and the output of the corresponding pre-prepared or pre-programmed responses that can move the conversation forward in an apparently meaningful way (e.g. by responding to any input that contains the word 'MOTHER' with 'TELL ME MORE ABOUT YOUR FAMILY').[8] Thus an illusion of understanding is generated, even though the processing involved has been merely superficial. ELIZA showed that such an illusion is surprisingly easy to generate because human judges are so ready to give the benefit of the doubt when conversational responses are capable of being interpreted as \"intelligent\".\n",
      "\n",
      "Interface designers have come to appreciate that humans' readiness to interpret computer output as genuinely conversational—even when it is actually based on rather simple pattern-matching—can be exploited for useful purposes. Most people prefer to engage with programs that are human-like, and this gives chatbot-style techniques a potentially useful role in interactive systems that need to elicit information from users, as long as that information is relatively straightforward and falls into predictable categories. Thus, for example, online help systems can usefully employ chatbot techniques to identify the area of help that users require, potentially providing a \"friendlier\" interface than a more formal search or menu system. This sort of usage holds the prospect of moving chatbot technology from Weizenbaum's \"shelf ... reserved for curios\" to that marked \"genuinely useful computational methods\".\n",
      "\n",
      "Development\n",
      "Among the most notable early chatbots are ELIZA (1966) and PARRY (1972).[9][10][11][12] More recent notable programs include A.L.I.C.E., Jabberwacky and D.U.D.E (Agence Nationale de la Recherche and CNRS 2006). While ELIZA and PARRY were used exclusively to simulate typed conversation, many chatbots now include other functional features, such as games and web searching abilities. In 1984, a book called The Policeman's Beard is Half Constructed was published, allegedly written by the chatbot Racter (though the program as released would not have been capable of doing so).[13]\n",
      "\n",
      "One pertinent field of AI research is natural-language processing. Usually, weak AI fields employ specialized software or programming languages created specifically for the narrow function required. For example, A.L.I.C.E. uses a markup language called AIML,[2] which is specific to its function as a conversational agent, and has since been adopted by various other developers of, so-called, Alicebots. Nevertheless, A.L.I.C.E. is still purely based on pattern matching techniques without any reasoning capabilities, the same technique ELIZA was using back in 1966. This is not strong AI, which would require sapience and logical reasoning abilities.\n",
      "\n",
      "Jabberwacky learns new responses and context based on real-time user interactions, rather than being driven from a static database. Some more recent chatbots also combine real-time learning with evolutionary algorithms that optimize their ability to communicate based on each conversation held. Still, there is currently no general purpose conversational artificial intelligence, and some software developers focus on the practical aspect, information retrieval.\n",
      "\n",
      "Chatbot competitions focus on the Turing test or more specific goals. Two such annual contests are the Loebner Prize and The Chatterbox Challenge (the latter has been offline since 2015, however, materials can still be found from web archives).[14]\n",
      "\n",
      "DBpedia created a chatbot during the GSoC of 2017.[15][16][17] It can communicate through Facebook Messenger.\n",
      "\n",
      "Application\n",
      "See also: Virtual assistant\n",
      "Messaging apps\n",
      "Many companies' chatbots run on messaging apps or simply via SMS. They are used for B2C customer service, sales and marketing.[18]\n",
      "\n",
      "In 2016, Facebook Messenger allowed developers to place chatbots on their platform. There were 30,000 bots created for Messenger in the first six months, rising to 100,000 by September 2017.[19]\n",
      "\n",
      "Since September 2017, this has also been as part of a pilot program on WhatsApp. Airlines KLM and Aeroméxico both announced their participation in the testing;[20][21][22][23] both airlines had previously launched customer services on the Facebook Messenger platform.\n",
      "\n",
      "The bots usually appear as one of the user's contacts, but can sometimes act as participants in a group chat.\n",
      "\n",
      "Many banks, insurers, media companies, e-commerce companies, airlines, hotel chains, retailers, health care providers, government entities and restaurant chains have used chatbots to answer simple questions, increase customer engagement,[24] for promotion, and to offer additional ways to order from them.[25][26]\n",
      "\n",
      "A 2017 study showed 4% of companies used chatbots.[27] According to a 2016 study, 80% of businesses said they intended to have one by 2020.[28]\n",
      "\n",
      "As part of company apps and websites\n",
      "Previous generations of chatbots were present on company websites, e.g. Ask Jenn from Alaska Airlines which debuted in 2008[29] or Expedia's virtual customer service agent which launched in 2011.[29][30] The newer generation of chatbots includes IBM Watson-powered \"Rocky\", introduced in February 2017 by the New York City-based e-commerce company Rare Carat to provide information to prospective diamond buyers.[31][32]\n",
      "\n",
      "Chatbot sequences\n",
      "Used by marketers to script sequences of messages, very similar to an Autoresponder sequence. Such sequences can be triggered by user opt-in or the use of keywords within user interactions. After a trigger occurs a sequence of messages is delivered until the next anticipated user response. Each user response is used in the decision tree to help the chatbot navigate the response sequences to deliver the correct response message.\n",
      "\n",
      "Company internal platforms\n",
      "Other companies explore ways they can use chatbots internally, for example for Customer Support, Human Resources, or even in Internet-of-Things (IoT) projects. Overstock.com, for one, has reportedly launched a chatbot named Mila to automate certain simple yet time-consuming processes when requesting sick leave.[33] Other large companies such as Lloyds Banking Group, Royal Bank of Scotland, Renault and Citroën are now using automated online assistants instead of call centres with humans to provide a first point of contact. A SaaS chatbot business ecosystem has been steadily growing since the F8 Conference when Facebook's Mark Zuckerberg unveiled that Messenger would allow chatbots into the app.[34] In large companies, like in hospitals and aviation organizations, IT architects are designing reference architectures for Intelligent Chatbots that are used to unlock and share knowledge and experience in the organization more efficiently, and reduce the errors in answers from expert service desks significantly.[35] These Intelligent Chatbots make use of all kinds of artificial intelligence like image moderation and natural-language understanding (NLU), natural-language generation (NLG), machine learning and deep learning.\n",
      "\n",
      "Customer service\n",
      "Many high-tech banking organizations are looking to integrate automated AI-based solutions such as chatbots into their customer service in order to provide faster and cheaper assistance to their clients who are becoming increasingly comfortable with technology. In particular, chatbots can efficiently conduct a dialogue, usually replacing other communication tools such as email, phone, or SMS. In banking, their major application is related to quick customer service answering common requests, as well as transactional support.\n",
      "\n",
      "Several studies report significant reduction in the cost of customer services, expected to lead to billions of dollars of economic savings in the next ten years.[36] In 2019, Gartner predicted that by 2021, 15% of all customer service interactions globally will be handled completely by AI.[37] A study by Juniper Research in 2019 estimates retail sales resulting from chatbot-based interactions will reach $112 billion by 2023.[38]\n",
      "\n",
      "Since 2016, when Facebook allowed businesses to deliver automated customer support, e-commerce guidance, content, and interactive experiences through chatbots, a large variety of chatbots were developed for the Facebook Messenger platform.[39]\n",
      "\n",
      "In 2016, Russia-based Tochka Bank launched the world's first Facebook bot for a range of financial services, including a possibility of making payments.[40]\n",
      "\n",
      "In July 2016, Barclays Africa also launched a Facebook chatbot, making it the first bank to do so in Africa.[41]\n",
      "\n",
      "The France's third-largest bank by total assets[42] Société Générale launched their chatbot called SoBot in March 2018. While 80% of users of the SoBot expressed their satisfaction after having tested it, Société Générale deputy director Bertrand Cozzarolo stated that it will never replace the expertise provided by a human advisor. [43]\n",
      "\n",
      "The advantages of using chatbots for customer interactions in banking include cost reduction, financial advice, and 24/7 support.[44][45]\n",
      "\n",
      "Healthcare\n",
      "See also: Artificial intelligence in healthcare\n",
      "Chatbots are also appearing in the healthcare industry.[46][47] A study suggested that physicians in the United States believed that chatbots would be most beneficial for scheduling doctor appointments, locating health clinics, or providing medication information.[48]\n",
      "\n",
      "Whatsapp has teamed up with the World Health Organisation (WHO) to make a chatbot service that answers users’ questions on COVID-19.[49]\n",
      "\n",
      "In 2020, The Indian Government launched a chatbot called MyGov Corona Helpdesk,[50] that worked through Whatsapp and helped people access information about the Coronavirus (COVID-19) pandemic.[51][52]In the Philippines, the Medical City Clinic chatbot handles 8400+ chats a month, reducing wait times, including more native Tagalog and Cebuano speakers and improving overall patient experience.[53]\n",
      "\n",
      "Certain patient groups are still reluctant to use chatbots. A mixed-methods study showed that people are still hesitant to use chatbots for their healthcare due to poor understanding of the technological complexity, the lack of empathy, and concerns about cyber-security.[54] The analysis showed that while 6% had heard of a health chatbot and 3% had experience of using it, 67% perceived themselves as likely to use one within 12 months. The majority of participants would use a health chatbot for seeking general health information (78%), booking a medical appointment (78%), and looking for local health services (80%). However, a health chatbot was perceived as less suitable for seeking results of medical tests and seeking specialist advice such as sexual health. The analysis of attitudinal variables showed that most participants reported their preference for discussing their health with doctors (73%) and having access to reliable and accurate health information (93%). While 80% were curious about new technologies that could improve their health, 66% reported only seeking a doctor when experiencing a health problem and 65% thought that a chatbot was a good idea. Interestingly, 30% reported dislike about talking to computers, 41% felt it would be strange to discuss health matters with a chatbot and about half were unsure if they could trust the advice given by a chatbot. Therefore, perceived trustworthiness, individual attitudes towards bots, and dislike for talking to computers are the main barriers to health chatbots.\n",
      "\n",
      "Politics\n",
      "See also: Government by algorithm § AI politicians\n",
      "In New Zealand, the chatbot SAM – short for Semantic Analysis Machine[55] (made by Nick Gerritsen of Touchtech[56]) – has been developed. It is designed to share its political thoughts, for example on topics such as climate change, healthcare and education, etc. It talks to people through Facebook Messenger.[57][58][59][60]\n",
      "\n",
      "In India, the state government has launched a chatbot for its Aaple Sarkar platform,[61] which provides conversational access to information regarding public services managed.[62][63]\n",
      "\n",
      "Toys\n",
      "Chatbots have also been incorporated into devices not primarily meant for computing, such as toys.[64]\n",
      "\n",
      "Hello Barbie is an Internet-connected version of the doll that uses a chatbot provided by the company ToyTalk,[65] which previously used the chatbot for a range of smartphone-based characters for children.[66] These characters' behaviors are constrained by a set of rules that in effect emulate a particular character and produce a storyline.[67]\n",
      "\n",
      "The My Friend Cayla doll was marketed as a line of 18-inch (46 cm) dolls which uses speech recognition technology in conjunction with an Android or iOS mobile app to recognize the child's speech and have a conversation. It, like the Hello Barbie doll, attracted controversy due to vulnerabilities with the doll's Bluetooth stack and its use of data collected from the child's speech.\n",
      "\n",
      "IBM's Watson computer has been used as the basis for chatbot-based educational toys for companies such as CogniToys[64] intended to interact with children for educational purposes.[68]\n",
      "\n",
      "Malicious use\n",
      "Malicious chatbots are frequently used to fill chat rooms with spam and advertisements, by mimicking human behavior and conversations or to entice people into revealing personal information, such as bank account numbers. They were commonly found on Yahoo! Messenger, Windows Live Messenger, AOL Instant Messenger and other instant messaging protocols. There has also been a published report of a chatbot used in a fake personal ad on a dating service's website.[69]\n",
      "\n",
      "Tay, an AI chatbot that learns from previous interaction, caused major controversy due to it being targeted by internet trolls on Twitter. The bot was exploited, and after 16 hours began to send extremely offensive Tweets to users. This suggests that although the bot learned effectively from experience, adequate protection was not put in place to prevent misuse.[70]\n",
      "\n",
      "If a text-sending algorithm can pass itself off as a human instead of a chatbot, its message would be more credible. Therefore, human-seeming chatbots with well-crafted online identities could start scattering fake news that seems plausible, for instance making false claims during an election. With enough chatbots, it might be even possible to achieve artificial social proof.[71][72]\n",
      "\n",
      "Limitations of chatbots\n",
      "The creation and implementation of chatbots is still a developing area, heavily related to artificial intelligence and machine learning, so the provided solutions, while possessing obvious advantages, have some important limitations in terms of functionalities and use cases. However, this is changing over time.\n",
      "\n",
      "The most common limitations are listed below:[73]\n",
      "\n",
      "As the database, used for output generation, is fixed and limited, chatbots can fail while dealing with an unsaved query.[45]\n",
      "A chatbot's efficiency highly depends on language processing and is limited because of irregularities, such as accents and mistakes.\n",
      "Chatbots are unable to deal with multiple questions at the same time and so conversation opportunities are limited.[73]\n",
      "Chatbots require a large amount of conversational data to train. Generative models, which are based on deep learning algorithms to generate new responses word by word based on user input, are usually trained on a large dataset of natural-language phrases.[2]\n",
      "Chatbots have difficulty managing non-linear conversations that must go back and forth on a topic with a user. [74]\n",
      "As it happens usually with technology-led changes in existing services, some consumers, more often than not from older generations, are uncomfortable with chatbots due to their limited understanding, making it obvious that their requests are being dealt with by machines.[73]\n",
      "Chatbots and jobs\n",
      "Chatbots are increasingly present in businesses and often are used to automate tasks that do not require skill-based talents. With customer service taking place via messaging apps as well as phone calls, there are growing numbers of use-cases where chatbot deployment gives organizations a clear return on investment. Call center workers may be particularly at risk from AI-driven chatbots.[75]\n",
      "\n",
      "Chatbot jobs\n",
      "\n",
      "Chatbot developers create, debug, and maintain applications that automate customer services or other communication processes. Their duties include reviewing and simplifying code when needed. They may also help companies implement bots in their operations.\n",
      "\n",
      "A study by Forrester (June 2017) predicted that 25% of all jobs would be impacted by AI technologies by 2019.[76]\n"
     ]
    }
   ],
   "source": [
    "datacorp = \"https://raw.githubusercontent.com/venkatshan707/AI_Chatbot/main/AIChatbotcorpus.txt\"\n",
    "datacorp = requests.get(datacorp)\n",
    "datacorp = datacorp.text\n",
    "print(datacorp)"
   ]
  },
  {
   "cell_type": "code",
   "execution_count": 7,
   "metadata": {
    "colab": {
     "base_uri": "https://localhost:8080/"
    },
    "id": "VeM4EPcbHa_M",
    "outputId": "5082de76-67ff-48c7-a950-65259ea96061"
   },
   "outputs": [
    {
     "name": "stderr",
     "output_type": "stream",
     "text": [
      "[nltk_data] Downloading package punkt to\n",
      "[nltk_data]     C:\\Users\\ELCOT\\AppData\\Roaming\\nltk_data...\n",
      "[nltk_data]   Unzipping tokenizers\\punkt.zip.\n",
      "[nltk_data] Downloading package wordnet to\n",
      "[nltk_data]     C:\\Users\\ELCOT\\AppData\\Roaming\\nltk_data...\n",
      "[nltk_data] Downloading package omw-1.4 to\n",
      "[nltk_data]     C:\\Users\\ELCOT\\AppData\\Roaming\\nltk_data...\n"
     ]
    }
   ],
   "source": [
    "raw_doc = datacorp.lower() #Converting entire text to lowercase \n",
    "nltk.download('punkt') #Using the Punkt tokenizer \n",
    "nltk.download('wordnet') #Using the wordnet dictionary nltk.download('omw-1.4')\n",
    "nltk.download('omw-1.4')\n",
    "sentence_tokens = nltk.sent_tokenize(raw_doc) \n",
    "word_tokens = nltk.word_tokenize(raw_doc)"
   ]
  },
  {
   "cell_type": "code",
   "execution_count": 8,
   "metadata": {
    "colab": {
     "base_uri": "https://localhost:8080/",
     "height": 174
    },
    "id": "9TFP7qzgH1Cf",
    "outputId": "8023c79c-5ea6-48a3-f0f0-9ca1cab70c81"
   },
   "outputs": [
    {
     "data": {
      "text/plain": [
       "'chatbot\\nfrom wikipedia, the free encyclopedia\\njump to navigationjump to search\\nfor other uses, see chatbot (disambiguation).\\n\\na virtual assistant chatbot\\n\\nthe 1966 eliza chatbot\\na chatbot or chatterbot is a software application used to conduct an on-line chat conversation via text or text-to-speech, in lieu of providing direct contact with a live human agent.[1][2] designed to convincingly simulate the way a human would behave as a conversational partner, chatbot systems typically require continuous tuning and testing, and many in production remain unable to adequately converse, while none of them can pass the standard turing test.[3] the term \"chatterbot\" was originally coined by michael mauldin (creator of the first verbot) in 1994 to describe these conversational programs.[4]\\n\\nchatbots are used in dialog systems for various purposes including customer service, request routing, or information gathering. while some chatbot applications use extensive word-classification processes, natural-language processors, and sophisticated ai, others simply scan for general keywords and generate responses using common phrases obtained from an associated library or database.\\n\\nmost chatbots are accessed on-line via website popups or through virtual assistants. they can be classified into usage categories that include: commerce (e-commerce via chat), education, entertainment, finance, health, news, and productivity.[5]\\n\\n\\ncontents\\n1\\tbackground\\n2\\tdevelopment\\n3\\tapplication\\n3.1\\tmessaging apps\\n3.1.1\\tas part of company apps and websites\\n3.1.2\\tchatbot sequences\\n3.2\\tcompany internal platforms\\n3.3\\tcustomer service\\n3.4\\thealthcare\\n3.5\\tpolitics\\n3.6\\ttoys\\n3.7\\tmalicious use\\n4\\tlimitations of chatbots\\n5\\tchatbots and jobs\\n6\\tsee also\\n7\\treferences\\n7.1\\tbibliography\\n8\\tfurther reading\\nbackground\\nin 1950, alan turing\\'s famous article \"computing machinery and intelligence\" was published,[6] which proposed what is now called the turing test as a criterion of intelligence. this criterion depends on the ability of a computer program to impersonate a human in a real-time written conversation with a human judge to the extent that the judge is unable to distinguish reliably—on the basis of the conversational content alone—between the program and a real human. the notoriety of turing\\'s proposed test stimulated great interest in joseph weizenbaum\\'s program eliza, published in 1966, which seemed to be able to fool users into believing that they were conversing with a real human. however weizenbaum himself did not claim that eliza was genuinely intelligent, and the introduction to his paper presented it more as a debunking exercise:\\n\\n[in] artificial intelligence ... machines are made to behave in wondrous ways, often sufficient to dazzle even the most experienced observer. but once a particular program is unmasked, once its inner workings are explained ... its magic crumbles away; it stands revealed as a mere collection of procedures ... the observer says to himself \"i could have written that\". with that thought, he moves the program in question from the shelf marked \"intelligent\", to that reserved for curios ... the object of this paper is to cause just such a re-evaluation of the program about to be \"explained\". few programs ever needed it more.[7]\\n\\neliza\\'s key method of operation (copied by chatbot designers ever since) involves the recognition of clue words or phrases in the input, and the output of the corresponding pre-prepared or pre-programmed responses that can move the conversation forward in an apparently meaningful way (e.g. by responding to any input that contains the word \\'mother\\' with \\'tell me more about your family\\').[8] thus an illusion of understanding is generated, even though the processing involved has been merely superficial. eliza showed that such an illusion is surprisingly easy to generate because human judges are so ready to give the benefit of the doubt when conversational responses are capable of being interpreted as \"intelligent\".\\n\\ninterface designers have come to appreciate that humans\\' readiness to interpret computer output as genuinely conversational—even when it is actually based on rather simple pattern-matching—can be exploited for useful purposes. most people prefer to engage with programs that are human-like, and this gives chatbot-style techniques a potentially useful role in interactive systems that need to elicit information from users, as long as that information is relatively straightforward and falls into predictable categories. thus, for example, online help systems can usefully employ chatbot techniques to identify the area of help that users require, potentially providing a \"friendlier\" interface than a more formal search or menu system. this sort of usage holds the prospect of moving chatbot technology from weizenbaum\\'s \"shelf ... reserved for curios\" to that marked \"genuinely useful computational methods\".\\n\\ndevelopment\\namong the most notable early chatbots are eliza (1966) and parry (1972).[9][10][11][12] more recent notable programs include a.l.i.c.e., jabberwacky and d.u.d.e (agence nationale de la recherche and cnrs 2006). while eliza and parry were used exclusively to simulate typed conversation, many chatbots now include other functional features, such as games and web searching abilities. in 1984, a book called the policeman\\'s beard is half constructed was published, allegedly written by the chatbot racter (though the program as released would not have been capable of doing so).[13]\\n\\none pertinent field of ai research is natural-language processing. usually, weak ai fields employ specialized software or programming languages created specifically for the narrow function required. for example, a.l.i.c.e. uses a markup language called aiml,[2] which is specific to its function as a conversational agent, and has since been adopted by various other developers of, so-called, alicebots. nevertheless, a.l.i.c.e. is still purely based on pattern matching techniques without any reasoning capabilities, the same technique eliza was using back in 1966. this is not strong ai, which would require sapience and logical reasoning abilities.\\n\\njabberwacky learns new responses and context based on real-time user interactions, rather than being driven from a static database. some more recent chatbots also combine real-time learning with evolutionary algorithms that optimize their ability to communicate based on each conversation held. still, there is currently no general purpose conversational artificial intelligence, and some software developers focus on the practical aspect, information retrieval.\\n\\nchatbot competitions focus on the turing test or more specific goals. two such annual contests are the loebner prize and the chatterbox challenge (the latter has been offline since 2015, however, materials can still be found from web archives).[14]\\n\\ndbpedia created a chatbot during the gsoc of 2017.[15][16][17] it can communicate through facebook messenger.\\n\\napplication\\nsee also: virtual assistant\\nmessaging apps\\nmany companies\\' chatbots run on messaging apps or simply via sms. they are used for b2c customer service, sales and marketing.[18]\\n\\nin 2016, facebook messenger allowed developers to place chatbots on their platform. there were 30,000 bots created for messenger in the first six months, rising to 100,000 by september 2017.[19]\\n\\nsince september 2017, this has also been as part of a pilot program on whatsapp. airlines klm and aeroméxico both announced their participation in the testing;[20][21][22][23] both airlines had previously launched customer services on the facebook messenger platform.\\n\\nthe bots usually appear as one of the user\\'s contacts, but can sometimes act as participants in a group chat.\\n\\nmany banks, insurers, media companies, e-commerce companies, airlines, hotel chains, retailers, health care providers, government entities and restaurant chains have used chatbots to answer simple questions, increase customer engagement,[24] for promotion, and to offer additional ways to order from them.[25][26]\\n\\na 2017 study showed 4% of companies used chatbots.[27] according to a 2016 study, 80% of businesses said they intended to have one by 2020.[28]\\n\\nas part of company apps and websites\\nprevious generations of chatbots were present on company websites, e.g. ask jenn from alaska airlines which debuted in 2008[29] or expedia\\'s virtual customer service agent which launched in 2011.[29][30] the newer generation of chatbots includes ibm watson-powered \"rocky\", introduced in february 2017 by the new york city-based e-commerce company rare carat to provide information to prospective diamond buyers.[31][32]\\n\\nchatbot sequences\\nused by marketers to script sequences of messages, very similar to an autoresponder sequence. such sequences can be triggered by user opt-in or the use of keywords within user interactions. after a trigger occurs a sequence of messages is delivered until the next anticipated user response. each user response is used in the decision tree to help the chatbot navigate the response sequences to deliver the correct response message.\\n\\ncompany internal platforms\\nother companies explore ways they can use chatbots internally, for example for customer support, human resources, or even in internet-of-things (iot) projects. overstock.com, for one, has reportedly launched a chatbot named mila to automate certain simple yet time-consuming processes when requesting sick leave.[33] other large companies such as lloyds banking group, royal bank of scotland, renault and citroën are now using automated online assistants instead of call centres with humans to provide a first point of contact. a saas chatbot business ecosystem has been steadily growing since the f8 conference when facebook\\'s mark zuckerberg unveiled that messenger would allow chatbots into the app.[34] in large companies, like in hospitals and aviation organizations, it architects are designing reference architectures for intelligent chatbots that are used to unlock and share knowledge and experience in the organization more efficiently, and reduce the errors in answers from expert service desks significantly.[35] these intelligent chatbots make use of all kinds of artificial intelligence like image moderation and natural-language understanding (nlu), natural-language generation (nlg), machine learning and deep learning.\\n\\ncustomer service\\nmany high-tech banking organizations are looking to integrate automated ai-based solutions such as chatbots into their customer service in order to provide faster and cheaper assistance to their clients who are becoming increasingly comfortable with technology. in particular, chatbots can efficiently conduct a dialogue, usually replacing other communication tools such as email, phone, or sms. in banking, their major application is related to quick customer service answering common requests, as well as transactional support.\\n\\nseveral studies report significant reduction in the cost of customer services, expected to lead to billions of dollars of economic savings in the next ten years.[36] in 2019, gartner predicted that by 2021, 15% of all customer service interactions globally will be handled completely by ai.[37] a study by juniper research in 2019 estimates retail sales resulting from chatbot-based interactions will reach $112 billion by 2023.[38]\\n\\nsince 2016, when facebook allowed businesses to deliver automated customer support, e-commerce guidance, content, and interactive experiences through chatbots, a large variety of chatbots were developed for the facebook messenger platform.[39]\\n\\nin 2016, russia-based tochka bank launched the world\\'s first facebook bot for a range of financial services, including a possibility of making payments.[40]\\n\\nin july 2016, barclays africa also launched a facebook chatbot, making it the first bank to do so in africa.[41]\\n\\nthe france\\'s third-largest bank by total assets[42] société générale launched their chatbot called sobot in march 2018. while 80% of users of the sobot expressed their satisfaction after having tested it, société générale deputy director bertrand cozzarolo stated that it will never replace the expertise provided by a human advisor. [43]\\n\\nthe advantages of using chatbots for customer interactions in banking include cost reduction, financial advice, and 24/7 support.[44][45]\\n\\nhealthcare\\nsee also: artificial intelligence in healthcare\\nchatbots are also appearing in the healthcare industry.[46][47] a study suggested that physicians in the united states believed that chatbots would be most beneficial for scheduling doctor appointments, locating health clinics, or providing medication information.[48]\\n\\nwhatsapp has teamed up with the world health organisation (who) to make a chatbot service that answers users’ questions on covid-19.[49]\\n\\nin 2020, the indian government launched a chatbot called mygov corona helpdesk,[50] that worked through whatsapp and helped people access information about the coronavirus (covid-19) pandemic.[51][52]in the philippines, the medical city clinic chatbot handles 8400+ chats a month, reducing wait times, including more native tagalog and cebuano speakers and improving overall patient experience.[53]\\n\\ncertain patient groups are still reluctant to use chatbots. a mixed-methods study showed that people are still hesitant to use chatbots for their healthcare due to poor understanding of the technological complexity, the lack of empathy, and concerns about cyber-security.[54] the analysis showed that while 6% had heard of a health chatbot and 3% had experience of using it, 67% perceived themselves as likely to use one within 12 months. the majority of participants would use a health chatbot for seeking general health information (78%), booking a medical appointment (78%), and looking for local health services (80%). however, a health chatbot was perceived as less suitable for seeking results of medical tests and seeking specialist advice such as sexual health. the analysis of attitudinal variables showed that most participants reported their preference for discussing their health with doctors (73%) and having access to reliable and accurate health information (93%). while 80% were curious about new technologies that could improve their health, 66% reported only seeking a doctor when experiencing a health problem and 65% thought that a chatbot was a good idea. interestingly, 30% reported dislike about talking to computers, 41% felt it would be strange to discuss health matters with a chatbot and about half were unsure if they could trust the advice given by a chatbot. therefore, perceived trustworthiness, individual attitudes towards bots, and dislike for talking to computers are the main barriers to health chatbots.\\n\\npolitics\\nsee also: government by algorithm § ai politicians\\nin new zealand, the chatbot sam – short for semantic analysis machine[55] (made by nick gerritsen of touchtech[56]) – has been developed. it is designed to share its political thoughts, for example on topics such as climate change, healthcare and education, etc. it talks to people through facebook messenger.[57][58][59][60]\\n\\nin india, the state government has launched a chatbot for its aaple sarkar platform,[61] which provides conversational access to information regarding public services managed.[62][63]\\n\\ntoys\\nchatbots have also been incorporated into devices not primarily meant for computing, such as toys.[64]\\n\\nhello barbie is an internet-connected version of the doll that uses a chatbot provided by the company toytalk,[65] which previously used the chatbot for a range of smartphone-based characters for children.[66] these characters\\' behaviors are constrained by a set of rules that in effect emulate a particular character and produce a storyline.[67]\\n\\nthe my friend cayla doll was marketed as a line of 18-inch (46 cm) dolls which uses speech recognition technology in conjunction with an android or ios mobile app to recognize the child\\'s speech and have a conversation. it, like the hello barbie doll, attracted controversy due to vulnerabilities with the doll\\'s bluetooth stack and its use of data collected from the child\\'s speech.\\n\\nibm\\'s watson computer has been used as the basis for chatbot-based educational toys for companies such as cognitoys[64] intended to interact with children for educational purposes.[68]\\n\\nmalicious use\\nmalicious chatbots are frequently used to fill chat rooms with spam and advertisements, by mimicking human behavior and conversations or to entice people into revealing personal information, such as bank account numbers. they were commonly found on yahoo! messenger, windows live messenger, aol instant messenger and other instant messaging protocols. there has also been a published report of a chatbot used in a fake personal ad on a dating service\\'s website.[69]\\n\\ntay, an ai chatbot that learns from previous interaction, caused major controversy due to it being targeted by internet trolls on twitter. the bot was exploited, and after 16 hours began to send extremely offensive tweets to users. this suggests that although the bot learned effectively from experience, adequate protection was not put in place to prevent misuse.[70]\\n\\nif a text-sending algorithm can pass itself off as a human instead of a chatbot, its message would be more credible. therefore, human-seeming chatbots with well-crafted online identities could start scattering fake news that seems plausible, for instance making false claims during an election. with enough chatbots, it might be even possible to achieve artificial social proof.[71][72]\\n\\nlimitations of chatbots\\nthe creation and implementation of chatbots is still a developing area, heavily related to artificial intelligence and machine learning, so the provided solutions, while possessing obvious advantages, have some important limitations in terms of functionalities and use cases. however, this is changing over time.\\n\\nthe most common limitations are listed below:[73]\\n\\nas the database, used for output generation, is fixed and limited, chatbots can fail while dealing with an unsaved query.[45]\\na chatbot\\'s efficiency highly depends on language processing and is limited because of irregularities, such as accents and mistakes.\\nchatbots are unable to deal with multiple questions at the same time and so conversation opportunities are limited.[73]\\nchatbots require a large amount of conversational data to train. generative models, which are based on deep learning algorithms to generate new responses word by word based on user input, are usually trained on a large dataset of natural-language phrases.[2]\\nchatbots have difficulty managing non-linear conversations that must go back and forth on a topic with a user. [74]\\nas it happens usually with technology-led changes in existing services, some consumers, more often than not from older generations, are uncomfortable with chatbots due to their limited understanding, making it obvious that their requests are being dealt with by machines.[73]\\nchatbots and jobs\\nchatbots are increasingly present in businesses and often are used to automate tasks that do not require skill-based talents. with customer service taking place via messaging apps as well as phone calls, there are growing numbers of use-cases where chatbot deployment gives organizations a clear return on investment. call center workers may be particularly at risk from ai-driven chatbots.[75]\\n\\nchatbot jobs\\n\\nchatbot developers create, debug, and maintain applications that automate customer services or other communication processes. their duties include reviewing and simplifying code when needed. they may also help companies implement bots in their operations.\\n\\na study by forrester (june 2017) predicted that 25% of all jobs would be impacted by ai technologies by 2019.[76]'"
      ]
     },
     "execution_count": 8,
     "metadata": {},
     "output_type": "execute_result"
    }
   ],
   "source": [
    "raw_doc"
   ]
  },
  {
   "cell_type": "code",
   "execution_count": 9,
   "metadata": {
    "id": "STBVF5zKH4QA"
   },
   "outputs": [],
   "source": [
    "sentence_tokens = nltk.sent_tokenize(raw_doc) \n",
    "word_tokens = nltk.word_tokenize (raw_doc)"
   ]
  },
  {
   "cell_type": "markdown",
   "metadata": {
    "id": "KiNtfx9onFDP"
   },
   "source": [
    "After Tokanization"
   ]
  },
  {
   "cell_type": "code",
   "execution_count": 10,
   "metadata": {
    "colab": {
     "base_uri": "https://localhost:8080/"
    },
    "id": "F98yt_-Vm7q2",
    "outputId": "950341f2-9a0a-4272-b7ae-58c5db1a6176"
   },
   "outputs": [
    {
     "data": {
      "text/plain": [
       "['chatbot\\nfrom wikipedia, the free encyclopedia\\njump to navigationjump to search\\nfor other uses, see chatbot (disambiguation).',\n",
       " 'a virtual assistant chatbot\\n\\nthe 1966 eliza chatbot\\na chatbot or chatterbot is a software application used to conduct an on-line chat conversation via text or text-to-speech, in lieu of providing direct contact with a live human agent.',\n",
       " '[1][2] designed to convincingly simulate the way a human would behave as a conversational partner, chatbot systems typically require continuous tuning and testing, and many in production remain unable to adequately converse, while none of them can pass the standard turing test.',\n",
       " '[3] the term \"chatterbot\" was originally coined by michael mauldin (creator of the first verbot) in 1994 to describe these conversational programs.',\n",
       " '[4]\\n\\nchatbots are used in dialog systems for various purposes including customer service, request routing, or information gathering.']"
      ]
     },
     "execution_count": 10,
     "metadata": {},
     "output_type": "execute_result"
    }
   ],
   "source": [
    "sentence_tokens[:5]"
   ]
  },
  {
   "cell_type": "code",
   "execution_count": 11,
   "metadata": {
    "colab": {
     "base_uri": "https://localhost:8080/"
    },
    "id": "3dr-lrsunA_8",
    "outputId": "0c959dc7-8c4c-4d46-debe-37370428fefb"
   },
   "outputs": [
    {
     "data": {
      "text/plain": [
       "['chatbot', 'from', 'wikipedia', ',', 'the', 'free', 'encyclopedia']"
      ]
     },
     "execution_count": 11,
     "metadata": {},
     "output_type": "execute_result"
    }
   ],
   "source": [
    "word_tokens[:7]"
   ]
  },
  {
   "cell_type": "markdown",
   "metadata": {
    "id": "04heWPXZnT1N"
   },
   "source": [
    "Performing Test Preprocessing Steps"
   ]
  },
  {
   "cell_type": "code",
   "execution_count": 12,
   "metadata": {
    "id": "jX5YrPSunSz9"
   },
   "outputs": [],
   "source": [
    "\n",
    "lemmer = nltk.stem.WordNetLemmatizer()\n",
    "\n",
    "def LemTokens (tokens):\n",
    "  return [lemmer.lemmatize(token) for token in tokens]\n",
    "\n",
    "remove_punc_dict = dict((ord(punct), None) for punct in string.punctuation)\n",
    "def LemNormalize(text):\n",
    "  return LemTokens (nltk.word_tokenize (text.lower().translate(remove_punc_dict)))"
   ]
  },
  {
   "cell_type": "markdown",
   "metadata": {
    "id": "emxSTtuQn9Jt"
   },
   "source": [
    "Definine Greeting Functions"
   ]
  },
  {
   "cell_type": "code",
   "execution_count": 13,
   "metadata": {
    "id": "IQWCRHayoAVY"
   },
   "outputs": [],
   "source": [
    "greet_inputs =('hello', 'hi', 'whas sup', 'how are you?') \n",
    "greet_responses = ('hi', 'Hey', 'Hey There!', 'There there!') \n",
    "\n",
    "def greet(sentence):\n",
    "   for word in sentence.split():\n",
    "     if word.lower() in greet_inputs:\n",
    "       return random.choice (greet_responses)"
   ]
  },
  {
   "cell_type": "markdown",
   "metadata": {
    "id": "CJ8k6tqHobsr"
   },
   "source": [
    "Response Generation By Bot"
   ]
  },
  {
   "cell_type": "code",
   "execution_count": 14,
   "metadata": {
    "id": "ZVCVuRV0oapW"
   },
   "outputs": [],
   "source": [
    "from sklearn.feature_extraction.text import TfidfVectorizer \n",
    "from sklearn.metrics.pairwise import cosine_similarity"
   ]
  },
  {
   "cell_type": "code",
   "execution_count": null,
   "metadata": {
    "id": "RnP7Hl68ovZS"
   },
   "outputs": [],
   "source": [
    "def response(user_response):\n",
    "  robo1_response =''\n",
    "  TfidfVec = TfidfVectorizer(tokenizer= LemNormalize, stop_words = 'english')\n",
    "  tfidf =TfidfVec.fit_transform(sentence_tokens)\n",
    "  vals= cosine_similarity(tfidf[-1], tfidf)\n",
    "\n",
    "  idx= vals.argsort()[0][-2]\n",
    "\n",
    "  flat = vals.flatten()\n",
    "\n",
    "  flat.sort()\n",
    "\n",
    "  req_tfidf =flat[-2]\n",
    "\n",
    "  if (req_tfidf == 0):\n",
    "    robo1_response= robo1_response +\"I am sorry. Unable to understand you!\"\n",
    "    return robo1_response\n",
    "\n",
    "  else:\n",
    "    robo1_response= robo1_response+ sentence_tokens[idx]\n",
    "    return robo1_response "
   ]
  },
  {
   "cell_type": "markdown",
   "metadata": {
    "id": "3utdp7QKp5tL"
   },
   "source": [
    "Defining The Chatflow"
   ]
  },
  {
   "cell_type": "code",
   "execution_count": null,
   "metadata": {
    "colab": {
     "base_uri": "https://localhost:8080/",
     "height": 574
    },
    "id": "2lrz4_Z5qhNw",
    "outputId": "132a096b-ef64-46f9-eae5-d8ea3934d96a"
   },
   "outputs": [],
   "source": [
    "flag = True\n",
    "print(\"Hello! I am the Learning Bot. Start typing your text after greeting to talk to me. For ending convo type bye!\")\n",
    "while(flag ==True):\n",
    "    user_response =input("You: ")\n",
    "    user_response = user_response.lower()\n",
    "    if(user_response != 'bye'):\n",
    "      if(user_response == 'thank you' or user_response=='thanks'):\n",
    "        flag = False\n",
    "        print('Bot: You are welcome..')\n",
    "      else:\n",
    "        if(greet (user_response) != None):\n",
    "          print(\"Bot: \"+ greet (user_response))\n",
    "        else:\n",
    "          sentence_tokens.append(user_response)\n",
    "          word_tokens =word_tokens +nltk.word_tokenize(user_response)\n",
    "          final_words= list(set(word_tokens))\n",
    "          print(\"Bot: \", end = '')\n",
    "          print(response(user_response))\n",
    "          sentence_tokens.remove(user_response)\n",
    "    else:\n",
    "      flag = False\n",
    "      print('Bot: Goodbye!') "
   ]
  }
 ],
 "metadata": {
  "colab": {
   "collapsed_sections": [],
   "provenance": []
  },
  "kernelspec": {
   "display_name": "Python 3",
   "language": "python",
   "name": "python3"
  },
  "language_info": {
   "codemirror_mode": {
    "name": "ipython",
    "version": 3
   },
   "file_extension": ".py",
   "mimetype": "text/x-python",
   "name": "python",
   "nbconvert_exporter": "python",
   "pygments_lexer": "ipython3",
   "version": "3.7.6"
  }
 },
 "nbformat": 4,
 "nbformat_minor": 4
}
