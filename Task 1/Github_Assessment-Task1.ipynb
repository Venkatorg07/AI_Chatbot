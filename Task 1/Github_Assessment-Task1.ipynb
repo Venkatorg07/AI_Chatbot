{
 "cells": [
  {
   "cell_type": "markdown",
   "metadata": {},
   "source": [
    "## Task 1 - 15 Basic Git Commands"
   ]
  },
  {
   "cell_type": "markdown",
   "metadata": {},
   "source": [
    "1. **git init**: The git init command creates a new Git repository. It can be used to convert an existing, unversioned project to a Git repository or initialize a new, empty repository. Most other Git commands are not available outside of an initialized repository, so this is usually the first command you'll run in a new project."
   ]
  },
  {
   "cell_type": "markdown",
   "metadata": {},
   "source": [
    "[![image](https://www.linkpicture.com/q/gitinit.png)](https://www.linkpicture.com/view.php?img=LPic633bd7568388f138393437)"
   ]
  },
  {
   "cell_type": "markdown",
   "metadata": {},
   "source": [
    "2. **git clone:** Clone repo located at <repo> onto local machine. Original repo can be located on the local filesystem (or) on a remote machine via HTTP or SSH using cmone commad"
   ]
  },
  {
   "cell_type": "markdown",
   "metadata": {},
   "source": [
    "[![image](https://www.linkpicture.com/q/gitclone.png)](https://www.linkpicture.com/view.php?img=LPic633bd7568388f138393437)"
   ]
  },
  {
   "cell_type": "markdown",
   "metadata": {},
   "source": [
    "3. **git remote add** < name > < url >: Creating a new connection to a remote repo. After adding a remote,\n",
    "you can use <name> as a shortcut for <url> in other commands."
   ]
  },
  {
   "cell_type": "markdown",
   "metadata": {},
   "source": [
    "[![image](https://www.linkpicture.com/q/gitremoteaddorigin.png)](https://www.linkpicture.com/view.php?img=LPic633bd7568388f138393437)"
   ]
  },
  {
   "cell_type": "markdown",
   "metadata": {},
   "source": [
    "4. **git config --global user.email \"user_email\"**:Defining the author email to be used for all commits by the current user.m"
   ]
  },
  {
   "cell_type": "markdown",
   "metadata": {},
   "source": [
    "[![image](https://www.linkpicture.com/q/gitconfiguseremail.png)](https://www.linkpicture.com/view.php?img=LPic633bd7568388f138393437)"
   ]
  },
  {
   "cell_type": "markdown",
   "metadata": {},
   "source": [
    "5. **git config --global user.name \"user_name\"**:  Defining author name to be used for all commits in current repo. Devs commonly use --global flag to set config options for current user"
   ]
  },
  {
   "cell_type": "markdown",
   "metadata": {},
   "source": [
    "[![image](https://www.linkpicture.com/q/gitconfiguserame.png)](https://www.linkpicture.com/view.php?img=LPic633bd7568388f138393437)"
   ]
  },
  {
   "cell_type": "markdown",
   "metadata": {},
   "source": [
    "6. **git status** :Listing which files are staged, unstaged, and untracked"
   ]
  },
  {
   "cell_type": "markdown",
   "metadata": {},
   "source": [
    "[![image](https://www.linkpicture.com/q/gitststus.png)](https://www.linkpicture.com/view.php?img=LPic633bd7568388f138393437)"
   ]
  },
  {
   "cell_type": "markdown",
   "metadata": {},
   "source": [
    "7. **gitadd** < directory > : Stage all changes in <directory> for the next commit. Replace <directory> with a <file> to change a specific file."
   ]
  },
  {
   "cell_type": "markdown",
   "metadata": {},
   "source": [
    "[![image](https://www.linkpicture.com/q/gitadd.png)](https://www.linkpicture.com/view.php?img=LPic633bd7568388f138393437)"
   ]
  },
  {
   "cell_type": "markdown",
   "metadata": {},
   "source": [
    "8. **git commit -m \"message\"** -  After using the git add command for to selecting the changes that will be staged for the next commit, using git commit for replacing the last commit with recent staged changes by combining with last commit. Use with nothing staged to edit the last commit’s message."
   ]
  },
  {
   "cell_type": "markdown",
   "metadata": {},
   "source": [
    "[![image](https://www.linkpicture.com/q/gitcommit.png)](https://www.linkpicture.com/view.php?img=LPic633bd7568388f138393437)"
   ]
  },
  {
   "cell_type": "markdown",
   "metadata": {},
   "source": [
    "9. **git push** < remote > < branch > :Push the branch to <remote>, along with necessary commits and objects. Creates named branch in the remote repo if it doesn’t exist"
   ]
  },
  {
   "cell_type": "markdown",
   "metadata": {},
   "source": [
    "[![image](https://www.linkpicture.com/q/gitpush.png)](https://www.linkpicture.com/view.php?img=LPic633bd7568388f138393437)"
   ]
  },
  {
   "cell_type": "markdown",
   "metadata": {},
   "source": [
    "10. **git pull < remote > < branch >**: Fetch the specified remote’s copy of current branch and\n",
    "immediately merge it into the local copy."
   ]
  },
  {
   "cell_type": "markdown",
   "metadata": {},
   "source": [
    "[![image](https://www.linkpicture.com/q/gitpull.png)](https://www.linkpicture.com/view.php?img=LPic633bd7568388f138393437)"
   ]
  },
  {
   "cell_type": "markdown",
   "metadata": {},
   "source": [
    "11. **git branch** : List all of the branches in your repo. If we add a <branch> argument that will create a new branch with the name <branch>."
   ]
  },
  {
   "cell_type": "markdown",
   "metadata": {},
   "source": [
    "[![image](https://www.linkpicture.com/q/gitviewbrachs.png)](https://www.linkpicture.com/view.php?img=LPic633bd7568388f138393437)"
   ]
  },
  {
   "cell_type": "markdown",
   "metadata": {},
   "source": [
    "12. **git checkout -b** < branch > :Create and check out a new branch named <branch>. Drop the -b flag to checkout an existing branch. Below we can see that we are checking out to 'main' branch from  'master'. "
   ]
  },
  {
   "cell_type": "markdown",
   "metadata": {},
   "source": [
    "[![image](https://www.linkpicture.com/q/checkoutbranch.png)](https://www.linkpicture.com/view.php?img=LPic633bd7568388f138393437)"
   ]
  },
  {
   "cell_type": "markdown",
   "metadata": {},
   "source": [
    "13. **git merge** < branch >: Merge <branch> into the current branch. Below we are merging venkbranch on main branch. \n",
    "\n",
    "   "
   ]
  },
  {
   "cell_type": "markdown",
   "metadata": {},
   "source": [
    "[![image](https://www.linkpicture.com/q/gitmerge.png)](https://www.linkpicture.com/view.php?img=LPic633bd7568388f138393437)"
   ]
  },
  {
   "cell_type": "markdown",
   "metadata": {},
   "source": [
    "14. **git branch -d [branch name]** : This command deletes the feature branch."
   ]
  },
  {
   "cell_type": "markdown",
   "metadata": {},
   "source": [
    "[![image](https://www.linkpicture.com/q/deletngbranch.png)](https://www.linkpicture.com/view.php?img=LPic633bd7568388f138393437)"
   ]
  },
  {
   "cell_type": "markdown",
   "metadata": {},
   "source": [
    "15.**git log** : This command is used to list the version history for the current branch."
   ]
  },
  {
   "cell_type": "markdown",
   "metadata": {},
   "source": [
    "[![image](https://www.linkpicture.com/q/gitlog.png)](https://www.linkpicture.com/view.php?img=LPic633bd7568388f138393437)"
   ]
  }
 ],
 "metadata": {
  "kernelspec": {
   "display_name": "Python 3",
   "language": "python",
   "name": "python3"
  },
  "language_info": {
   "codemirror_mode": {
    "name": "ipython",
    "version": 3
   },
   "file_extension": ".py",
   "mimetype": "text/x-python",
   "name": "python",
   "nbconvert_exporter": "python",
   "pygments_lexer": "ipython3",
   "version": "3.7.6"
  }
 },
 "nbformat": 4,
 "nbformat_minor": 4
}
